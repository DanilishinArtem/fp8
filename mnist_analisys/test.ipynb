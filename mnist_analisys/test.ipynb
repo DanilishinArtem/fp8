{
 "cells": [
  {
   "cell_type": "code",
   "execution_count": 2,
   "metadata": {},
   "outputs": [],
   "source": [
    "import torch"
   ]
  },
  {
   "cell_type": "code",
   "execution_count": 39,
   "metadata": {},
   "outputs": [
    {
     "name": "stdout",
     "output_type": "stream",
     "text": [
      "tensor([[0.4198, 0.6680, 0.2828, 0.5417, 0.3321, 0.2249, 0.9567, 0.6113, 0.0896,\n",
      "         0.3476]])\n",
      "tensor([[0.4199, 0.6680, 0.2830, 0.5415, 0.3320, 0.2249, 0.9565, 0.6113, 0.0897,\n",
      "         0.3477]], dtype=torch.float16)\n",
      "tensor([[0.4062, 0.6875, 0.2812, 0.5625, 0.3438, 0.2188, 0.9375, 0.6250, 0.0859,\n",
      "         0.3438]], dtype=torch.float16)\n"
     ]
    }
   ],
   "source": [
    "x = torch.rand(1, 10, dtype=torch.float32)\n",
    "y = x.to(torch.float16)\n",
    "z = x.to(torch.torch.float8_e4m3fn).to(torch.float16)\n",
    "print(x)\n",
    "print(y)\n",
    "print(z)"
   ]
  },
  {
   "cell_type": "code",
   "execution_count": 35,
   "metadata": {},
   "outputs": [
    {
     "name": "stdout",
     "output_type": "stream",
     "text": [
      "tensor([[48.7218, 62.6936, 26.1018, 33.3768, 26.7844, 37.2599, 77.4297, 94.0653,\n",
      "         67.0340, 96.7653]])\n",
      "tensor([[48.7188, 62.6875, 26.1094, 33.3750, 26.7812, 37.2500, 77.4375, 94.0625,\n",
      "         67.0625, 96.7500]], dtype=torch.float16)\n",
      "tensor([[48., 64., 26., 32., 26., 36., 80., 96., 64., 96.]],\n",
      "       dtype=torch.float16)\n"
     ]
    }
   ],
   "source": [
    "x = torch.tensor([[48.7218, 62.6936, 26.1018, 33.3768, 26.7844, 37.2599, 77.4297, 94.0653,67.0340, 96.7653]])\n",
    "y = x.to(torch.float16)\n",
    "z = x.to(torch.torch.float8_e4m3fn).to(torch.float16)\n",
    "print(x)\n",
    "print(y)\n",
    "print(z)"
   ]
  }
 ],
 "metadata": {
  "kernelspec": {
   "display_name": "python",
   "language": "python",
   "name": "python3"
  },
  "language_info": {
   "codemirror_mode": {
    "name": "ipython",
    "version": 3
   },
   "file_extension": ".py",
   "mimetype": "text/x-python",
   "name": "python",
   "nbconvert_exporter": "python",
   "pygments_lexer": "ipython3",
   "version": "3.12.2"
  }
 },
 "nbformat": 4,
 "nbformat_minor": 2
}
