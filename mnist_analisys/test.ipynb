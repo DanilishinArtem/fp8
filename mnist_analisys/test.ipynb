{
 "cells": [
  {
   "cell_type": "code",
   "execution_count": 3,
   "metadata": {},
   "outputs": [],
   "source": [
    "import torch"
   ]
  },
  {
   "cell_type": "code",
   "execution_count": 11,
   "metadata": {},
   "outputs": [
    {
     "name": "stdout",
     "output_type": "stream",
     "text": [
      "tensor([[19.4150, 74.0398, 25.0154, 43.8534, 35.3257, 38.6901, 78.4495, 30.3837,\n",
      "         27.5394, 47.9332]])\n",
      "tensor([[19.4219, 74.0625, 25.0156, 43.8438, 35.3125, 38.6875, 78.4375, 30.3906,\n",
      "         27.5469, 47.9375]], dtype=torch.float16)\n",
      "tensor([[20., 72., 26., 44., 36., 40., 80., 30., 28., 48.]],\n",
      "       dtype=torch.float8_e4m3fn)\n"
     ]
    }
   ],
   "source": [
    "x = torch.rand(1, 10, dtype=torch.float32) * 100\n",
    "y = x.to(torch.float16)\n",
    "z = x.to(torch.torch.float8_e4m3fn)\n",
    "print(x)\n",
    "print(y)\n",
    "print(z)"
   ]
  }
 ],
 "metadata": {
  "kernelspec": {
   "display_name": "python",
   "language": "python",
   "name": "python3"
  },
  "language_info": {
   "codemirror_mode": {
    "name": "ipython",
    "version": 3
   },
   "file_extension": ".py",
   "mimetype": "text/x-python",
   "name": "python",
   "nbconvert_exporter": "python",
   "pygments_lexer": "ipython3",
   "version": "3.12.2"
  }
 },
 "nbformat": 4,
 "nbformat_minor": 2
}
