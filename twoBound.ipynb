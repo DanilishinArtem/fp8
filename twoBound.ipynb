{
 "cells": [
  {
   "cell_type": "code",
   "execution_count": 6,
   "metadata": {},
   "outputs": [],
   "source": [
    "import torch\n",
    "from typing import Callable\n",
    "import time"
   ]
  },
  {
   "cell_type": "code",
   "execution_count": 17,
   "metadata": {},
   "outputs": [
    {
     "name": "stdout",
     "output_type": "stream",
     "text": [
      "max: 5.4050193284638226e-05, upper bound: 4.4150088797323406e-05\n",
      "mean: 7.978936992003582e-06, std: 6.028524694556836e-06\n",
      "[FAULT DETECTED]\n"
     ]
    }
   ],
   "source": [
    "x = torch.normal(mean=0, std=1, size=(10000, 10000)) * 1e-5\n",
    "x[0][0] = 1e-23\n",
    "\n",
    "x = x.abs()\n",
    "k = 6\n",
    "mean = torch.mean(x)\n",
    "std = torch.std(x)\n",
    "min, max = torch.aminmax(x)\n",
    "print('max: {}, upper bound: {}'.format(max, mean + k * std))\n",
    "print('mean: {}, std: {}'.format(mean, std))\n",
    "if max > mean + k * std:\n",
    "    print('[FAULT DETECTED]')\n",
    "else:\n",
    "    print('No fault detected')"
   ]
  },
  {
   "cell_type": "code",
   "execution_count": 24,
   "metadata": {},
   "outputs": [
    {
     "name": "stdout",
     "output_type": "stream",
     "text": [
      "min: -4.4820733070373535, max: -4.2472100257873535\n",
      "lowerBound: -4.42048978805542, upperBound: -4.373188495635986\n",
      "[FAULT DETECTED]\n"
     ]
    }
   ],
   "source": [
    "x = torch.normal(mean=0, std=1, size=(10000, 10000)) * 1e-5\n",
    "x[0][0] = 1e-23\n",
    "\n",
    "x = x.abs()\n",
    "group_size = 100\n",
    "x = x.view(-1, group_size, group_size).amax(dim=(1,2))\n",
    "x = x.where(x != 0, x.max()).log10()\n",
    "k = torch.tensor(6)\n",
    "\n",
    "mean = torch.mean(x)\n",
    "std = torch.std(x)\n",
    "min, max = torch.aminmax(x)\n",
    "print('min: {}, max: {}'.format(min, max))\n",
    "print('lowerBound: {}, upperBound: {}'.format(mean - torch.log10(k) * std, mean + torch.log10(k) * std))\n",
    "if max > mean + torch.log10(k) * std or min < mean - torch.log10(k) * std:\n",
    "    print('[FAULT DETECTED]')\n",
    "else:\n",
    "    print('No fault detected')"
   ]
  }
 ],
 "metadata": {
  "kernelspec": {
   "display_name": "base",
   "language": "python",
   "name": "python3"
  },
  "language_info": {
   "codemirror_mode": {
    "name": "ipython",
    "version": 3
   },
   "file_extension": ".py",
   "mimetype": "text/x-python",
   "name": "python",
   "nbconvert_exporter": "python",
   "pygments_lexer": "ipython3",
   "version": "3.12.2"
  }
 },
 "nbformat": 4,
 "nbformat_minor": 2
}
