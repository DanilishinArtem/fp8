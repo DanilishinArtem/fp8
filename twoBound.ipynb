{
 "cells": [
  {
   "cell_type": "code",
   "execution_count": 2,
   "metadata": {},
   "outputs": [],
   "source": [
    "import torch\n",
    "from typing import Callable\n",
    "import time"
   ]
  },
  {
   "cell_type": "code",
   "execution_count": 3,
   "metadata": {},
   "outputs": [
    {
     "name": "stdout",
     "output_type": "stream",
     "text": [
      "max: 5.623313336400315e-05, upper bound: 4.414754221215844e-05\n",
      "mean: 7.979071597219445e-06, std: 6.028078587405616e-06\n",
      "[FAULT DETECTED]\n"
     ]
    }
   ],
   "source": [
    "x = torch.normal(mean=0, std=1, size=(10000, 10000)) * 1e-5\n",
    "x[0][0] = 1e-23\n",
    "\n",
    "x = x.abs()\n",
    "k = 6\n",
    "mean = torch.mean(x)\n",
    "std = torch.std(x)\n",
    "min, max = torch.aminmax(x)\n",
    "print('max: {}, upper bound: {}'.format(max, mean + k * std))\n",
    "print('mean: {}, std: {}'.format(mean, std))\n",
    "if max > mean + k * std:\n",
    "    print('[FAULT DETECTED]')\n",
    "else:\n",
    "    print('No fault detected')"
   ]
  },
  {
   "cell_type": "code",
   "execution_count": 34,
   "metadata": {},
   "outputs": [
    {
     "name": "stdout",
     "output_type": "stream",
     "text": [
      "min: -4.340609550476074, max: -4.24826717376709\n",
      "lowerBound: -4.31410026550293, upperBound: -4.283254623413086\n",
      "[FAULT DETECTED]\n"
     ]
    }
   ],
   "source": [
    "x = torch.normal(mean=0, std=1, size=(10000, 10000)) * 1e-5\n",
    "x[0][0] = 1e-23\n",
    "\n",
    "x = x.abs()\n",
    "group_size = 100\n",
    "# x = x.view(-1, group_size, group_size).amax(dim=(1,2))\n",
    "x = x.view(group_size, group_size, -1).amax(dim=(1,2))\n",
    "x = x.where(x != 0, x.max()).log10()\n",
    "k = torch.tensor(6)\n",
    "\n",
    "mean = torch.mean(x)\n",
    "std = torch.std(x)\n",
    "min, max = torch.aminmax(x)\n",
    "print('min: {}, max: {}'.format(min, max))\n",
    "print('lowerBound: {}, upperBound: {}'.format(mean - torch.log10(k) * std, mean + torch.log10(k) * std))\n",
    "if max > mean + torch.log10(k) * std or min < mean - torch.log10(k) * std:\n",
    "    print('[FAULT DETECTED]')\n",
    "else:\n",
    "    print('No fault detected')"
   ]
  }
 ],
 "metadata": {
  "kernelspec": {
   "display_name": "base",
   "language": "python",
   "name": "python3"
  },
  "language_info": {
   "codemirror_mode": {
    "name": "ipython",
    "version": 3
   },
   "file_extension": ".py",
   "mimetype": "text/x-python",
   "name": "python",
   "nbconvert_exporter": "python",
   "pygments_lexer": "ipython3",
   "version": "3.12.2"
  }
 },
 "nbformat": 4,
 "nbformat_minor": 2
}
