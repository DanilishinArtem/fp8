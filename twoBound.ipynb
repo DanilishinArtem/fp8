{
 "cells": [
  {
   "cell_type": "code",
   "execution_count": null,
   "metadata": {},
   "outputs": [],
   "source": [
    "import torch\n",
    "from typing import Callable\n",
    "import time\n",
    "\n",
    "def IQR_test(x: torch.tensor, k: int):\n",
    "    q1, q3 = torch.quantile(x, torch.tensor([0.25, 0.75]))\n",
    "    iqr = q3 - q1\n",
    "    upper_bound = q3 + k * iqr\n",
    "    lower_bound = q1 - k * iqr\n",
    "    if torch.any(x > upper_bound) or torch.any(x < lower_bound):\n",
    "        return True\n",
    "    else:\n",
    "        return False\n",
    "\n",
    "x = torch.normal(mean=0, std=1, size=(1000, 1000)) * 1e-14\n",
    "x = x.abs()\n",
    "x[0][0] = 1e-20\n",
    "# x[0][0] = 1e+23\n",
    "# x[0][0] = 2\n",
    "\n",
    "group_size = 100\n",
    "min, max = x.view(group_size, -1).aminmax(dim=1)\n",
    "min = min.where(min != 0, min.max()).log10()\n",
    "\n",
    "print('fault for min: {}'.format(IQR_test(min, 3)))\n",
    "print('fault for max: {}'.format(IQR_test(max, 100)))\n"
   ]
  },
  {
   "cell_type": "markdown",
   "metadata": {},
   "source": [
    "# Testing all theories"
   ]
  },
  {
   "cell_type": "code",
   "execution_count": 10,
   "metadata": {},
   "outputs": [],
   "source": [
    "def IQR_test(x: torch.tensor, k: int):\n",
    "    q1, q3 = torch.quantile(x, torch.tensor([0.25, 0.75]).to(x.device))\n",
    "    iqr = q3 - q1\n",
    "    upper_bound = q3 + k * iqr\n",
    "    lower_bound = q1 - k * iqr\n",
    "    if torch.any(x > upper_bound) or torch.any(x < lower_bound):\n",
    "        return True\n",
    "    else:\n",
    "        return False"
   ]
  },
  {
   "cell_type": "code",
   "execution_count": 11,
   "metadata": {},
   "outputs": [],
   "source": [
    "def vanilla(x: torch.Tensor):\n",
    "    x = x.abs()\n",
    "    k = 6\n",
    "    min, max = torch.aminmax(x)\n",
    "    mean = torch.mean(x)\n",
    "    std = torch.std(x)\n",
    "    return max > mean + k * std\n",
    "\n",
    "def boost_one_side(x: torch.Tensor):\n",
    "    x = x.abs()\n",
    "    k = 6\n",
    "    group_size = 100\n",
    "    x = x.view(-1, group_size, group_size).mean(dim=(1,2))\n",
    "    min, max = torch.aminmax(x)\n",
    "    mean = torch.mean(x)\n",
    "    std = torch.std(x)\n",
    "    return max > mean + k * std\n",
    "\n",
    "def boost_two_sides(x: torch.Tensor):\n",
    "    x = x.abs()\n",
    "    group_size = 100\n",
    "    min, max = x.view(group_size, -1).aminmax(dim=1)\n",
    "    min = min.where(min != 0, min.max()).log10()\n",
    "    return IQR_test(min, 3) or IQR_test(max, 100)"
   ]
  },
  {
   "cell_type": "code",
   "execution_count": 12,
   "metadata": {},
   "outputs": [],
   "source": [
    "def test(x: torch.Tensor, f: Callable[[torch.Tensor], bool], iters: int):\n",
    "    start_time = time.time()\n",
    "    for i in range(iters):\n",
    "        f(x)\n",
    "    return time.time() - start_time"
   ]
  },
  {
   "cell_type": "code",
   "execution_count": null,
   "metadata": {},
   "outputs": [],
   "source": [
    "x = torch.normal(mean=0, std=1e-9, size=(100000, 20000)) * 1e-8\n",
    "x[0][0] = 1e-30\n",
    "x = x.cuda()\n",
    "\n",
    "result_vanilla = test(x, vanilla, 100)\n",
    "\n",
    "x = torch.normal(mean=0, std=1e-9, size=(20000, 20000)) * 1e-8\n",
    "x[0][0] = 1e-30\n",
    "x = x.cuda()\n",
    "\n",
    "result_boost_one_side = test(x, boost_one_side, 100)\n",
    "\n",
    "x = torch.normal(mean=0, std=1e-9, size=(20000, 20000)) * 1e-8\n",
    "x[0][0] = 1e-30\n",
    "x = x.cuda()\n",
    "\n",
    "result_boost_two_sides = test(x, boost_two_sides, 100)\n",
    "\n",
    "print('time for vanilla: {}'.format(result_vanilla))\n",
    "print('time for boost_one_side: {}'.format(result_boost_one_side))\n",
    "print('time for boost_two_sides: {}'.format(result_boost_two_sides))\n",
    "\n",
    "print('optimization for boost_one_side: {}%'.format((result_vanilla / result_boost_one_side - 1) * 100))\n",
    "print('optimization for boost_two_sides: {}%'.format((result_vanilla / result_boost_two_sides - 1) * 100))"
   ]
  },
  {
   "cell_type": "markdown",
   "metadata": {},
   "source": [
    "# Results"
   ]
  },
  {
   "cell_type": "code",
   "execution_count": 8,
   "metadata": {},
   "outputs": [],
   "source": [
    "# CPU results:\n",
    "\n",
    "# time for vanilla: 45.121389627456665\n",
    "# time for boost_one_side: 26.617141485214233\n",
    "# time for boost_two_sides: 35.05351233482361\n",
    "# optimization for boost_one_side: 69.52004276087085%\n",
    "# optimization for boost_two_sides: 28.721450782069603%\n",
    "\n",
    "# CUDA results:\n"
   ]
  }
 ],
 "metadata": {
  "kernelspec": {
   "display_name": "base",
   "language": "python",
   "name": "python3"
  },
  "language_info": {
   "codemirror_mode": {
    "name": "ipython",
    "version": 3
   },
   "file_extension": ".py",
   "mimetype": "text/x-python",
   "name": "python",
   "nbconvert_exporter": "python",
   "pygments_lexer": "ipython3",
   "version": "3.12.2"
  }
 },
 "nbformat": 4,
 "nbformat_minor": 2
}
