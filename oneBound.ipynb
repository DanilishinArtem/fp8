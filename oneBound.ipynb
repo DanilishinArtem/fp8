{
 "cells": [
  {
   "cell_type": "code",
   "execution_count": 5,
   "metadata": {},
   "outputs": [],
   "source": [
    "import torch\n",
    "from typing import Callable\n",
    "import time"
   ]
  },
  {
   "cell_type": "code",
   "execution_count": 9,
   "metadata": {},
   "outputs": [
    {
     "name": "stdout",
     "output_type": "stream",
     "text": [
      "max: 5.709773986950495e-08, upper bound: 4.4150699096690005e-08\n",
      "[FAULT DETECTED]\n"
     ]
    }
   ],
   "source": [
    "x = torch.normal(mean=0, std=1, size=(10000, 10000)) * 1e-8\n",
    "x[0][0] = 1e-23\n",
    "# x[0][0] = 2\n",
    "\n",
    "x = x.abs()\n",
    "k = 6\n",
    "mean = torch.mean(x)\n",
    "std = torch.std(x)\n",
    "min, max = torch.aminmax(x)\n",
    "print('max: {}, upper bound: {}'.format(max, mean + k * std))\n",
    "if max > mean + k * std:\n",
    "    print('[FAULT DETECTED]')\n",
    "else:\n",
    "    print('No fault detected')"
   ]
  },
  {
   "cell_type": "code",
   "execution_count": 10,
   "metadata": {},
   "outputs": [
    {
     "name": "stdout",
     "output_type": "stream",
     "text": [
      "shape: torch.Size([10000])\n",
      "max: 5.66467939222548e-08, upper bound: 5.7984074430805777e-08\n",
      "No fault detected\n"
     ]
    }
   ],
   "source": [
    "x = torch.normal(mean=0, std=1, size=(10000, 10000)) * 1e-8\n",
    "x[0][0] = 1e-23\n",
    "# x[0][0] = 2\n",
    "\n",
    "x = x.abs()\n",
    "group_size = 100\n",
    "x = x.view(-1, group_size, group_size).amax(dim=(1,2))\n",
    "print('shape: {}'.format(x.shape))\n",
    "k = 6\n",
    "mean = torch.mean(x)\n",
    "std = torch.std(x)\n",
    "min, max = torch.aminmax(x)\n",
    "print('max: {}, upper bound: {}'.format(max, mean + k * std))\n",
    "if max > mean + k * std:\n",
    "    print('[FAULT DETECTED]')\n",
    "else:\n",
    "    print('No fault detected')\n",
    "\n",
    "    # max: 1.000000071494503e+25, upper bound: 6.100000459174899e+24"
   ]
  },
  {
   "cell_type": "code",
   "execution_count": 177,
   "metadata": {},
   "outputs": [],
   "source": [
    "def chebyshev(x: torch.Tensor):\n",
    "    x = x.abs()\n",
    "    k = 6\n",
    "    min, max = torch.aminmax(x)\n",
    "    mean = torch.mean(x)\n",
    "    std = torch.std(x)\n",
    "    return max > mean + k * std\n",
    "\n",
    "def twoBoundaries(x: torch.Tensor):\n",
    "    x = x.abs()\n",
    "    k = 6\n",
    "    group_size = 100\n",
    "    x = x.view(-1, group_size, group_size).mean(dim=(1,2))\n",
    "    min, max = torch.aminmax(x)\n",
    "    mean = torch.mean(x)\n",
    "    std = torch.std(x)\n",
    "    return max > mean + k * std\n",
    "    \n"
   ]
  },
  {
   "cell_type": "code",
   "execution_count": 178,
   "metadata": {},
   "outputs": [],
   "source": [
    "def test(x: torch.Tensor, f: Callable[[torch.Tensor], bool], iters: int):\n",
    "    start_time = time.time()\n",
    "    for i in range(iters):\n",
    "        f(x)\n",
    "    return time.time() - start_time"
   ]
  },
  {
   "cell_type": "code",
   "execution_count": 184,
   "metadata": {},
   "outputs": [
    {
     "name": "stdout",
     "output_type": "stream",
     "text": [
      "time without optimization: 54.331501483917236\n",
      "time with optimization: 29.21265935897827\n",
      "overhead: 85.98615352429013%\n"
     ]
    }
   ],
   "source": [
    "x = torch.normal(mean=0, std=1e-9, size=(20000, 20000)) * 1e-8\n",
    "x[0][0] = 1e-30\n",
    "\n",
    "result1 = test(x, chebyshev, 100)\n",
    "result2 = test(x, twoBoundaries, 100)\n",
    "print('time without optimization: {}'.format(result1))\n",
    "print('time with optimization: {}'.format(result2))\n",
    "print('overhead: {}%'.format((result1 / result2 - 1) * 100))"
   ]
  }
 ],
 "metadata": {
  "kernelspec": {
   "display_name": "base",
   "language": "python",
   "name": "python3"
  },
  "language_info": {
   "codemirror_mode": {
    "name": "ipython",
    "version": 3
   },
   "file_extension": ".py",
   "mimetype": "text/x-python",
   "name": "python",
   "nbconvert_exporter": "python",
   "pygments_lexer": "ipython3",
   "version": "3.12.2"
  }
 },
 "nbformat": 4,
 "nbformat_minor": 2
}
