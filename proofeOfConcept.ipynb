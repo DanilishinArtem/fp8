{
 "cells": [
  {
   "cell_type": "code",
   "execution_count": 1,
   "metadata": {},
   "outputs": [],
   "source": [
    "import torch"
   ]
  },
  {
   "cell_type": "code",
   "execution_count": 2,
   "metadata": {},
   "outputs": [],
   "source": [
    "def boost_max(x: torch.Tensor):\n",
    "    q = torch.tensor([0.25, 0.75])\n",
    "    copy = x.detach().clone().abs()\n",
    "    copy = copy.view(512, -1).amax(dim=(1,))\n",
    "    q1, q3 = torch.quantile(copy, q)\n",
    "    bound = q3 + 1_000 * (q3 - q1)\n",
    "    max = copy.max()\n",
    "    print('bound: {}, max_value: {}'.format(bound, max))\n",
    "    if max > bound:\n",
    "        print('[FAULT DETECTED]')\n",
    "    else:\n",
    "        print('No fault detected')"
   ]
  },
  {
   "cell_type": "code",
   "execution_count": 3,
   "metadata": {},
   "outputs": [],
   "source": [
    "def boost_sum(x: torch.Tensor):\n",
    "    q = torch.tensor([0.25, 0.75])\n",
    "    copy = x.detach().clone()\n",
    "    copy = copy.view(512, -1).sum(dim=(1,)).abs()\n",
    "    q1, q3 = torch.quantile(copy, q)\n",
    "    bound = q3 + 1_000 * (q3 - q1)\n",
    "    max = copy.max()\n",
    "    print('bound: {}, max_value: {}'.format(bound, max))\n",
    "    if max > bound:\n",
    "        print('[FAULT DETECTED]')\n",
    "    else:\n",
    "        print('No fault detected')"
   ]
  },
  {
   "cell_type": "code",
   "execution_count": 5,
   "metadata": {},
   "outputs": [],
   "source": [
    "def test(fault: float, type: str):\n",
    "    if type == 'grads':\n",
    "        tensor = torch.normal(mean=0, std=1, size=(4096, 4096)) * 1e-8\n",
    "    elif type == 'weights':\n",
    "        tensor = torch.normal(mean=0, std=1, size=(4096, 4096))\n",
    "    else:\n",
    "        raise ValueError('Type must be either \\'weights\\' or \\'grads\\'')\n",
    "    original_value = tensor[0][0].item()\n",
    "    tensor[0][0] = fault\n",
    "    print('---------------------------------------------------------')\n",
    "    print('fault injected in {}: from {} to {}'.format(type, original_value, fault))\n",
    "    print('result for function max')\n",
    "    boost_max(tensor)\n",
    "    print('result for function sum')\n",
    "    boost_sum(tensor)\n",
    "    print('\\n')\n",
    "    tensor = None"
   ]
  },
  {
   "cell_type": "code",
   "execution_count": 7,
   "metadata": {},
   "outputs": [
    {
     "name": "stdout",
     "output_type": "stream",
     "text": [
      "---------------------------------------------------------\n",
      "fault injected in weights: from 0.2096564918756485 to 1e+23\n",
      "result for function max\n",
      "bound: 343.3172302246094, max_value: 9.999999778196308e+22\n",
      "[FAULT DETECTED]\n",
      "result for function sum\n",
      "bound: 151825.015625, max_value: 9.999999778196308e+22\n",
      "[FAULT DETECTED]\n",
      "\n",
      "\n",
      "---------------------------------------------------------\n",
      "fault injected in grads: from -1.1620688411539959e-08 to 1e+23\n",
      "result for function max\n",
      "bound: 3.6666260712081566e-06, max_value: 9.999999778196308e+22\n",
      "[FAULT DETECTED]\n",
      "result for function sum\n",
      "bound: 0.0015446824254468083, max_value: 9.999999778196308e+22\n",
      "[FAULT DETECTED]\n",
      "\n",
      "\n",
      "---------------------------------------------------------\n",
      "fault injected in weights: from 2.2651472091674805 to 1000.0\n",
      "result for function max\n",
      "bound: 338.6874084472656, max_value: 1000.0\n",
      "[FAULT DETECTED]\n",
      "result for function sum\n",
      "bound: 160468.875, max_value: 1104.6865234375\n",
      "No fault detected\n",
      "\n",
      "\n",
      "---------------------------------------------------------\n",
      "fault injected in grads: from 1.2182110431524507e-08 to 1000.0\n",
      "result for function max\n",
      "bound: 3.5206955999456113e-06, max_value: 1000.0\n",
      "[FAULT DETECTED]\n",
      "result for function sum\n",
      "bound: 0.00163451477419585, max_value: 1000.0\n",
      "[FAULT DETECTED]\n",
      "\n",
      "\n",
      "---------------------------------------------------------\n",
      "fault injected in weights: from 0.43077975511550903 to 2\n",
      "result for function max\n",
      "bound: 381.2182922363281, max_value: 5.664622783660889\n",
      "No fault detected\n",
      "result for function sum\n",
      "bound: 142431.859375, max_value: 620.8229370117188\n",
      "No fault detected\n",
      "\n",
      "\n",
      "---------------------------------------------------------\n",
      "fault injected in grads: from -1.2864671994350374e-08 to 2\n",
      "result for function max\n",
      "bound: 3.973263119405601e-06, max_value: 2.0\n",
      "[FAULT DETECTED]\n",
      "result for function sum\n",
      "bound: 0.00148601399268955, max_value: 1.999996304512024\n",
      "[FAULT DETECTED]\n",
      "\n",
      "\n"
     ]
    }
   ],
   "source": [
    "test(1e+23, 'weights')\n",
    "test(1e+23, 'grads')\n",
    "\n",
    "test(1e+3, 'weights')\n",
    "test(1e+3, 'grads')\n",
    "\n",
    "test(2, 'weights')\n",
    "test(2, 'grads')"
   ]
  }
 ],
 "metadata": {
  "kernelspec": {
   "display_name": "base",
   "language": "python",
   "name": "python3"
  },
  "language_info": {
   "codemirror_mode": {
    "name": "ipython",
    "version": 3
   },
   "file_extension": ".py",
   "mimetype": "text/x-python",
   "name": "python",
   "nbconvert_exporter": "python",
   "pygments_lexer": "ipython3",
   "version": "3.12.3"
  }
 },
 "nbformat": 4,
 "nbformat_minor": 2
}
