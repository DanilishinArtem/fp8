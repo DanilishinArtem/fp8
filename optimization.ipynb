{
 "cells": [
  {
   "cell_type": "code",
   "execution_count": 1,
   "metadata": {},
   "outputs": [],
   "source": [
    "import torch\n",
    "import time\n",
    "from typing import Callable\n"
   ]
  },
  {
   "cell_type": "code",
   "execution_count": 2,
   "metadata": {},
   "outputs": [],
   "source": [
    "def vanilla(x: torch.Tensor, q: torch.Tensor = None):\n",
    "    copy = x.detach().clone().abs()\n",
    "    max = torch.max(copy)\n",
    "    mean = torch.mean(copy)\n",
    "    std = torch.std(copy)\n",
    "    return max > mean + 1_000 * std\n",
    "\n",
    "def boost_max(x: torch.Tensor, q: torch.Tensor = None):\n",
    "    copy = x.detach().clone().abs()\n",
    "    copy = copy.view(512, -1).amax(dim=(1,))\n",
    "    q1, q3 = torch.quantile(copy, q)\n",
    "    return copy.max() > q3 + 1_000 * (q3 - q1)\n",
    "\n",
    "def boost_sum(x: torch.Tensor, q: torch.Tensor = None):\n",
    "    copy = x.detach().clone()\n",
    "    copy = copy.view(512, -1).sum(dim=(1,)).abs()\n",
    "    q1, q3 = torch.quantile(copy, q)\n",
    "    return copy.max() > q3 + 1_000 * (q3 - q1)"
   ]
  },
  {
   "cell_type": "code",
   "execution_count": 3,
   "metadata": {},
   "outputs": [],
   "source": [
    "def test(x: torch.Tensor, f: Callable[[torch.Tensor], bool], iters: int, q: torch.Tensor = None):\n",
    "    start_time = time.time()\n",
    "    for _ in range(iters):\n",
    "        f(x, q)\n",
    "    return time.time() - start_time"
   ]
  },
  {
   "cell_type": "code",
   "execution_count": 4,
   "metadata": {},
   "outputs": [
    {
     "name": "stdout",
     "output_type": "stream",
     "text": [
      "time for vanilla: 1.573725700378418\n",
      "time for boost_max: 2.236877679824829\n",
      "time for boost_sum: 1.482189416885376\n",
      "optimization for boost_max: 42.138981354053605%\n",
      "optimization for boost_sum: -5.816533559249315%\n"
     ]
    }
   ],
   "source": [
    "# [1, 2, 4, 8, 16, 32, 64, 128, 256, 512, 1024, 2048, 4096, 8192, 16384, 32768, 65536, 131072, 262144, 524288]\n",
    "\n",
    "x = torch.normal(mean=0, std=1e-9, size=(32768, 16384)) * 1e-8\n",
    "x[0][0] = 1e35\n",
    "q = torch.tensor([0.25, 0.75])\n",
    "x = x.cuda()\n",
    "q = q.cuda()\n",
    "\n",
    "result_boost_sum = test(x, boost_sum, 100, q)\n",
    "result_boost_max = test(x, boost_max, 100, q)\n",
    "result_vanilla = test(x, vanilla, 100, q)\n",
    "\n",
    "print('time for vanilla: {}'.format(result_vanilla))\n",
    "print('time for boost_max: {}'.format(result_boost_max))\n",
    "print('time for boost_sum: {}'.format(result_boost_sum))\n",
    "\n",
    "print('optimization for boost_max: {}%'.format((result_boost_max / result_vanilla - 1) * 100))\n",
    "print('optimization for boost_sum: {}%'.format((result_boost_sum / result_vanilla - 1) * 100))"
   ]
  },
  {
   "cell_type": "markdown",
   "metadata": {},
   "source": [
    "# Results"
   ]
  },
  {
   "cell_type": "code",
   "execution_count": 5,
   "metadata": {},
   "outputs": [],
   "source": [
    "# CPU:\n",
    "# time for vanilla: 69.03535866737366\n",
    "# time for boost_max: 49.39474010467529\n",
    "# time for boost_sum: 27.623595237731934\n",
    "# optimization for boost_max: 39.76257091560109%\n",
    "# optimization for boost_sum: 149.9144592629858%\n",
    "\n",
    "# GPU:\n",
    "# time for vanilla: 1.5768744945526123\n",
    "# time for boost_max: 2.2301137447357178\n",
    "# time for boost_sum: 1.5734341144561768\n",
    "# optimization for boost_max: 41.426204332668924%\n",
    "# optimization for boost_sum: -0.21817716681451493%"
   ]
  }
 ],
 "metadata": {
  "kernelspec": {
   "display_name": "base",
   "language": "python",
   "name": "python3"
  },
  "language_info": {
   "codemirror_mode": {
    "name": "ipython",
    "version": 3
   },
   "file_extension": ".py",
   "mimetype": "text/x-python",
   "name": "python",
   "nbconvert_exporter": "python",
   "pygments_lexer": "ipython3",
   "version": "3.12.3"
  }
 },
 "nbformat": 4,
 "nbformat_minor": 2
}
